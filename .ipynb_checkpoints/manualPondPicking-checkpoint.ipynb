{
 "cells": [
  {
   "cell_type": "markdown",
   "metadata": {},
   "source": [
    "# Picking manual melt pond data from ICESat-2 photon data plots"
   ]
  },
  {
   "cell_type": "markdown",
   "metadata": {},
   "source": [
    "## Step 1\n",
    "Replace FirstLast in the first line below with your name, and run this cell. "
   ]
  },
  {
   "cell_type": "code",
   "execution_count": null,
   "metadata": {},
   "outputs": [],
   "source": [
    "YOUR_NAME = 'FirstLast'\n",
    "\n",
    "%matplotlib notebook\n",
    "from pondpicking import PondPicker, getDataDownload"
   ]
  },
  {
   "cell_type": "markdown",
   "metadata": {},
   "source": [
    "## Step 2: Pond 1 out of 4\n",
    "Run the cell below. On the plot that appears, pick the surface as well as the right and left parts of the lake bed for pond 1.\n",
    "- Start with tracing out the (flat) water surface. On each mouse click the plot will update to show in blue where you have picked the surface so far. If you want to go back, just press the 'Backspace' key and you will see your last picked point disappear. Wherever there is no water present your surface pick does not matter, so you can ignore little 'islands' in the middle. \n",
    "- Press '2' on your keyboard to move on to picking the **right** part of the lake bed. This will be plotted in red.\n",
    "- Press '3' on your keyboard to move on to picking the **left** part of the lake bed. This will be plotted in orange.\n",
    "- Move on to the next cell when you're done."
   ]
  },
  {
   "cell_type": "code",
   "execution_count": null,
   "metadata": {},
   "outputs": [],
   "source": [
    "pond1 = PondPicker(pond=1)"
   ]
  },
  {
   "cell_type": "markdown",
   "metadata": {},
   "source": [
    "## Step 3: Pond 2 out of 4\n",
    "Run the cell below. Same as before."
   ]
  },
  {
   "cell_type": "code",
   "execution_count": null,
   "metadata": {},
   "outputs": [],
   "source": [
    "pond2 = PondPicker(pond=2)"
   ]
  },
  {
   "cell_type": "markdown",
   "metadata": {},
   "source": [
    "## Step 4: Pond 3 out of 4\n",
    "Run the cell below. Same as before."
   ]
  },
  {
   "cell_type": "code",
   "execution_count": null,
   "metadata": {},
   "outputs": [],
   "source": [
    "pond3 = PondPicker(pond=3)"
   ]
  },
  {
   "cell_type": "markdown",
   "metadata": {},
   "source": [
    "## Step 5: Pond 4 out of 4\n",
    "Run the cell below. This one only has one part for the lakebed."
   ]
  },
  {
   "cell_type": "code",
   "execution_count": null,
   "metadata": {},
   "outputs": [],
   "source": [
    "pond4 = PondPicker(pond=4)"
   ]
  },
  {
   "cell_type": "markdown",
   "metadata": {},
   "source": [
    "## Step 6: Check your data\n",
    "Run the cell below and make sure your picked data looks right on the plot. "
   ]
  },
  {
   "cell_type": "code",
   "execution_count": null,
   "metadata": {},
   "outputs": [],
   "source": [
    "getDataDownload(pond1,pond2,pond3,pond4,YOUR_NAME)"
   ]
  },
  {
   "cell_type": "markdown",
   "metadata": {},
   "source": [
    "## Step 7: Download the generated data and send it to me\n",
    "Run the cell below. A download link for a csv file will appear. Download the file and email it to parndt(at)ucsd.edu. \n",
    "Thanks :-)"
   ]
  },
  {
   "cell_type": "code",
   "execution_count": null,
   "metadata": {},
   "outputs": [],
   "source": [
    "from IPython.display import FileLink, FileLinks\n",
    "FileLinks('pickeddata/')"
   ]
  }
 ],
 "metadata": {
  "kernelspec": {
   "display_name": "Python 3",
   "language": "python",
   "name": "python3"
  },
  "language_info": {
   "codemirror_mode": {
    "name": "ipython",
    "version": 3
   },
   "file_extension": ".py",
   "mimetype": "text/x-python",
   "name": "python",
   "nbconvert_exporter": "python",
   "pygments_lexer": "ipython3",
   "version": "3.7.6"
  }
 },
 "nbformat": 4,
 "nbformat_minor": 4
}
